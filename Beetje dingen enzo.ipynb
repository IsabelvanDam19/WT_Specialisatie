{
 "cells": [
  {
   "cell_type": "markdown",
   "metadata": {},
   "source": [
    "Data zoeken van Amerika van hoeveel automobilisten, percentage verzekerde mensen en percentage ongelukken van verzekerde mensen"
   ]
  },
  {
   "cell_type": "markdown",
   "metadata": {},
   "source": [
    "National average of $1,730 per year or $144 per month for full coverage\n",
    "\n",
    "(1) State Farm:\n",
    "Coverage Type\t      Cost Per Month\tCost Per Year\n",
    "Full coverage\t            $104\t       $1,250\n",
    "Minimum coverage\t        $52\t           $625\n",
    "\n",
    "\n",
    "Updated: Aug 10, 2023:\n",
    "Car Insurance Provider\tAverage Monthly Cost\tAverage Annual Cost\n",
    "USAA\t                      $88\t                  $1,054\n",
    "Erie Insurance\t              $103\t                  $1,238\n",
    "Nationwide\t                  $107\t                  $1,281\n",
    "Geico\t                      $109\t                  $1,308\n",
    "Auto-Owners Insurance\t      $111\t                  $1,337\n",
    "State Farm\t                  $123\t                  $1,481\n",
    "American Family Insurance\t  $128\t                  $1,537\n",
    "Progressive\t                  $134\t                  $1,611\n",
    "Travelers\t                  $139\t                  $1,669\n",
    "Allstate\t                  $174\t                  $2,088\n",
    "Farmers\t                      $178\t                  $2,140"
   ]
  },
  {
   "cell_type": "markdown",
   "metadata": {},
   "source": [
    "Data zoeken van Amerika van hoeveel automobilisten, percentage verzekerde mensen en percentage ongelukken van verzekerde mensen"
   ]
  },
  {
   "cell_type": "markdown",
   "metadata": {},
   "source": [
    "- In 2023 there are a projected 243.4 million licensed drivers in the US, which includes 89% of US adults.\n",
    "\n",
    "Updated: Aug 17 2023\n",
    "The vast majority of drivers have comprehensive and collision coverage. In addition to buying liability car insurance, 79% of insured drivers buy comprehensive coverage and 75% purchase collision coverage. One in eight drivers has no car insurance (12.6%).\n",
    "\n",
    "Collision claims are claims to an insurance company or payment of cost in repairing one's vehicle regardless of who is at fault for the damage. According to the car insurance claims database from 2018, 6.1% of all collision insurance policyholders in the US had a claim."
   ]
  },
  {
   "cell_type": "markdown",
   "metadata": {},
   "source": [
    "Grafiek maken van hoeveel auto ongelukken per staat"
   ]
  },
  {
   "cell_type": "code",
   "execution_count": 2,
   "metadata": {},
   "outputs": [],
   "source": [
    "import pandas as pd\n",
    "import matplotlib.pyplot as plt\n",
    "\n",
    "#test\n",
    "#file_path = \"C:\\Users\\Bart\\Documents\\Traineeship\\Data2\\US_Accidents_June20.csv\"\n",
    "\n",
    "df = pd.read_csv('US_Accidents_June20.csv')\n",
    "\n",
    "\n",
    "\n",
    "\n",
    "\n"
   ]
  },
  {
   "cell_type": "code",
   "execution_count": 11,
   "metadata": {},
   "outputs": [
    {
     "name": "stdout",
     "output_type": "stream",
     "text": [
      "<class 'pandas.core.frame.DataFrame'>\n",
      "RangeIndex: 3513617 entries, 0 to 3513616\n",
      "Data columns (total 49 columns):\n",
      " #   Column                 Dtype  \n",
      "---  ------                 -----  \n",
      " 0   ID                     object \n",
      " 1   Source                 object \n",
      " 2   TMC                    float64\n",
      " 3   Severity               int64  \n",
      " 4   Start_Time             object \n",
      " 5   End_Time               object \n",
      " 6   Start_Lat              float64\n",
      " 7   Start_Lng              float64\n",
      " 8   End_Lat                float64\n",
      " 9   End_Lng                float64\n",
      " 10  Distance(mi)           float64\n",
      " 11  Description            object \n",
      " 12  Number                 float64\n",
      " 13  Street                 object \n",
      " 14  Side                   object \n",
      " 15  City                   object \n",
      " 16  County                 object \n",
      " 17  State                  object \n",
      " 18  Zipcode                object \n",
      " 19  Country                object \n",
      " 20  Timezone               object \n",
      " 21  Airport_Code           object \n",
      " 22  Weather_Timestamp      object \n",
      " 23  Temperature(F)         float64\n",
      " 24  Wind_Chill(F)          float64\n",
      " 25  Humidity(%)            float64\n",
      " 26  Pressure(in)           float64\n",
      " 27  Visibility(mi)         float64\n",
      " 28  Wind_Direction         object \n",
      " 29  Wind_Speed(mph)        float64\n",
      " 30  Precipitation(in)      float64\n",
      " 31  Weather_Condition      object \n",
      " 32  Amenity                bool   \n",
      " 33  Bump                   bool   \n",
      " 34  Crossing               bool   \n",
      " 35  Give_Way               bool   \n",
      " 36  Junction               bool   \n",
      " 37  No_Exit                bool   \n",
      " 38  Railway                bool   \n",
      " 39  Roundabout             bool   \n",
      " 40  Station                bool   \n",
      " 41  Stop                   bool   \n",
      " 42  Traffic_Calming        bool   \n",
      " 43  Traffic_Signal         bool   \n",
      " 44  Turning_Loop           bool   \n",
      " 45  Sunrise_Sunset         object \n",
      " 46  Civil_Twilight         object \n",
      " 47  Nautical_Twilight      object \n",
      " 48  Astronomical_Twilight  object \n",
      "dtypes: bool(13), float64(14), int64(1), object(21)\n",
      "memory usage: 1008.6+ MB\n"
     ]
    }
   ],
   "source": [
    "df.info()"
   ]
  },
  {
   "cell_type": "code",
   "execution_count": null,
   "metadata": {},
   "outputs": [],
   "source": [
    "state_accident_counts = df['State'].value_counts()\n",
    "\n",
    "plt.figure(figsize=(12, 6))\n",
    "state_accident_counts.plot(kind='bar', color='skyblue')\n",
    "plt.title('Ongelukken per Staat')\n",
    "plt.xlabel('Staat')\n",
    "plt.ylabel('Aantal ongelukken')\n",
    "plt.xticks(rotation=45) \n",
    "plt.tight_layout()\n",
    "plt.show()"
   ]
  },
  {
   "cell_type": "code",
   "execution_count": 11,
   "metadata": {},
   "outputs": [
    {
     "name": "stderr",
     "output_type": "stream",
     "text": [
      "C:\\Users\\isabe\\AppData\\Local\\Temp\\ipykernel_3500\\1481016970.py:14: UserWarning: Tight layout not applied. The bottom and top margins cannot be made large enough to accommodate all axes decorations.\n",
      "  plt.tight_layout()\n"
     ]
    },
    {
     "data": {
      "image/png": "[encoded data removed]",
      "text/plain": [
       "<Figure size 864x432 with 1 Axes>"
      ]
     },
     "metadata": {
      "needs_background": "light"
     },
     "output_type": "display_data"
    }
   ],
   "source": [
    "state_city_accident_counts = df.groupby(['State', 'City']).size().reset_index(name='accident_count')\n",
    "\n",
    "\n",
    "plt.figure(figsize=(12, 6))\n",
    "for state in state_city_accident_counts['State'].unique():\n",
    "    state_data = state_city_accident_counts[state_city_accident_counts['State'] == state]\n",
    "    plt.bar(state_data['City'], state_data['accident_count'], label=state)\n",
    "\n",
    "plt.title('Ongelukken per Stad per Staat')\n",
    "plt.xlabel('Stad')\n",
    "plt.ylabel('Aantal Ongelukken')\n",
    "plt.xticks(rotation=90) \n",
    "plt.legend(title='State', loc='upper right')\n",
    "plt.tight_layout()\n",
    "plt.show()"
   ]
  },
  {
   "cell_type": "markdown",
   "metadata": {},
   "source": [
    "ff kijken of de ND ongelukken 0 of gewoon heel laag is"
   ]
  },
  {
   "cell_type": "code",
   "execution_count": 3,
   "metadata": {},
   "outputs": [
    {
     "name": "stdout",
     "output_type": "stream",
     "text": [
      "Aantal ongelukken in north dakota (ND): 44\n"
     ]
    }
   ],
   "source": [
    "import pandas as pd\n",
    "\n",
    "file_path = r\"C:\\Users\\isabe\\OneDrive\\Documenten\\WT\\Bootcamp Specialisatie\\Week 2-5\\US_Accidents_June20.csv\"\n",
    "\n",
    "df = pd.read_csv(file_path)\n",
    "\n",
    "\n",
    "nd_accidents = df[df['State'] == 'ND']\n",
    "\n",
    "\n",
    "nd_accident_count = len(nd_accidents)\n",
    "\n",
    "\n",
    "print(f\"Aantal ongelukken in Dakota (ND): {nd_accident_count}\")\n"
   ]
  },
  {
   "cell_type": "code",
   "execution_count": 3,
   "metadata": {},
   "outputs": [
    {
     "name": "stdout",
     "output_type": "stream",
     "text": [
      "       Year  Gender    Cohort       State  Drivers\n",
      "0      2017    Male  Under 16     Alabama      0.0\n",
      "1      2017    Male  Under 16      Alaska      0.0\n",
      "2      2017    Male  Under 16     Arizona      0.0\n",
      "3      2017    Male  Under 16    Arkansas      0.0\n",
      "4      2017    Male  Under 16  California      0.0\n",
      "...     ...     ...       ...         ...      ...\n",
      "57829  2018  Female     65-69     Wyoming  16061.0\n",
      "57830  2018  Female     70-74     Wyoming  11804.0\n",
      "57831  2018  Female     75-79     Wyoming   7770.0\n",
      "57832  2018  Female     80-84     Wyoming   4715.0\n",
      "57833  2018  Female       85+     Wyoming   3456.0\n",
      "\n",
      "[57834 rows x 5 columns]\n"
     ]
    }
   ],
   "source": [
    "# Drivers per state, kaggle Data set\n",
    "\n",
    "df_drivers_by_state = pd.read_csv('Licensed_drivers_By_State.csv')\n",
    "print(df_drivers_by_state)\n",
    "\n",
    "\n"
   ]
  },
  {
   "cell_type": "code",
   "execution_count": 4,
   "metadata": {},
   "outputs": [
    {
     "name": "stdout",
     "output_type": "stream",
     "text": [
      "State\n",
      "California              576317897.0\n",
      "Texas                   362911317.0\n",
      "Florida                 332206242.0\n",
      "New York                278903109.0\n",
      "Pennsylvania            214285552.0\n",
      "Illinois                202089002.0\n",
      "Ohio                    197074002.0\n",
      "Michigan                174597232.0\n",
      "North Carolina          155971968.0\n",
      "Georgia                 150907550.0\n",
      "New Jersey              146079208.0\n",
      "Virginia                131059091.0\n",
      "Washington              118755159.0\n",
      "Massachusetts           116153834.0\n",
      "Indiana                 112910836.0\n",
      "Tennessee               110096934.0\n",
      "Missouri                101008854.0\n",
      "Arizona                 100843536.0\n",
      "Wisconsin                98554261.0\n",
      "Maryland                 91949382.0\n",
      "Alabama                  91094599.0\n",
      "Colorado                 85660123.0\n",
      "South Carolina           78281683.0\n",
      "Minnesota                77805906.0\n",
      "Louisiana                75567250.0\n",
      "Kentucky                 70926827.0\n",
      "Oregon                   67021988.0\n",
      "Connecticut              65385659.0\n",
      "Oklahoma                 58822329.0\n",
      "Iowa                     51729059.0\n",
      "Arkansas                 50487454.0\n",
      "Kansas                   48999875.0\n",
      "Mississippi              47402673.0\n",
      "Utah                     40094991.0\n",
      "Nevada                   38746481.0\n",
      "New Mexico               33193302.0\n",
      "Nebraska                 32521106.0\n",
      "West Virginia            31588406.0\n",
      "New Hampshire            25031620.0\n",
      "Idaho                    24891368.0\n",
      "Maine                    24332507.0\n",
      "Hawaii                   21157279.0\n",
      "Rhode Island             18066030.0\n",
      "Montana                  17752160.0\n",
      "Delaware                 15862596.0\n",
      "South Dakota             14408344.0\n",
      "Vermont                  13043249.0\n",
      "Alaska                   12295331.0\n",
      "North Dakota             12101576.0\n",
      "Wyoming                   9691087.0\n",
      "District of Columbia      9565832.0\n",
      "Name: Drivers, dtype: float64\n"
     ]
    }
   ],
   "source": [
    "# Calculate sum per state\n",
    "\n",
    "\n",
    "sum_per_state = df_drivers_by_state.groupby('State')['Drivers'].sum()\n",
    "sum_per_state_sorted = sum_per_state.sort_values(ascending=False)\n",
    "print(sum_per_state_sorted)\n",
    "\n",
    "#Test123\n"
   ]
  },
  {
   "cell_type": "code",
   "execution_count": 6,
   "metadata": {},
   "outputs": [
    {
     "data": {
      "text/plain": [
       "Index(['ID', 'Source', 'TMC', 'Severity', 'Start_Time', 'End_Time',\n",
       "       'Start_Lat', 'Start_Lng', 'End_Lat', 'End_Lng', 'Distance(mi)',\n",
       "       'Description', 'Number', 'Street', 'Side', 'City', 'County', 'State',\n",
       "       'Zipcode', 'Country', 'Timezone', 'Airport_Code', 'Weather_Timestamp',\n",
       "       'Temperature(F)', 'Wind_Chill(F)', 'Humidity(%)', 'Pressure(in)',\n",
       "       'Visibility(mi)', 'Wind_Direction', 'Wind_Speed(mph)',\n",
       "       'Precipitation(in)', 'Weather_Condition', 'Amenity', 'Bump', 'Crossing',\n",
       "       'Give_Way', 'Junction', 'No_Exit', 'Railway', 'Roundabout', 'Station',\n",
       "       'Stop', 'Traffic_Calming', 'Traffic_Signal', 'Turning_Loop',\n",
       "       'Sunrise_Sunset', 'Civil_Twilight', 'Nautical_Twilight',\n",
       "       'Astronomical_Twilight'],\n",
       "      dtype='object')"
      ]
     },
     "execution_count": 6,
     "metadata": {},
     "output_type": "execute_result"
    }
   ],
   "source": [
    "df.columns"
   ]
  },
  {
   "cell_type": "code",
   "execution_count": 9,
   "metadata": {},
   "outputs": [],
   "source": [
    "df_places = df[['Bump','Crossing','Give_Way','Junction','No_Exit','Railway','Roundabout','Station','Stop','Traffic_Calming','Traffic_Signal','Turning_Loop']]"
   ]
  },
  {
   "cell_type": "code",
   "execution_count": 11,
   "metadata": {},
   "outputs": [
    {
     "data": {
      "text/html": [
       "<div>\n",
       "<style scoped>\n",
       "    .dataframe tbody tr th:only-of-type {\n",
       "        vertical-align: middle;\n",
       "    }\n",
       "\n",
       "    .dataframe tbody tr th {\n",
       "        vertical-align: top;\n",
       "    }\n",
       "\n",
       "    .dataframe thead th {\n",
       "        text-align: right;\n",
       "    }\n",
       "</style>\n",
       "<table border=\"1\" class=\"dataframe\">\n",
       "  <thead>\n",
       "    <tr style=\"text-align: right;\">\n",
       "      <th></th>\n",
       "      <th>Bump</th>\n",
       "      <th>Crossing</th>\n",
       "      <th>Give_Way</th>\n",
       "      <th>Junction</th>\n",
       "      <th>No_Exit</th>\n",
       "      <th>Railway</th>\n",
       "      <th>Roundabout</th>\n",
       "      <th>Station</th>\n",
       "      <th>Stop</th>\n",
       "    </tr>\n",
       "  </thead>\n",
       "  <tbody>\n",
       "    <tr>\n",
       "      <th>0</th>\n",
       "      <td>False</td>\n",
       "      <td>False</td>\n",
       "      <td>False</td>\n",
       "      <td>False</td>\n",
       "      <td>False</td>\n",
       "      <td>False</td>\n",
       "      <td>False</td>\n",
       "      <td>False</td>\n",
       "      <td>False</td>\n",
       "    </tr>\n",
       "    <tr>\n",
       "      <th>1</th>\n",
       "      <td>False</td>\n",
       "      <td>False</td>\n",
       "      <td>False</td>\n",
       "      <td>False</td>\n",
       "      <td>False</td>\n",
       "      <td>False</td>\n",
       "      <td>False</td>\n",
       "      <td>False</td>\n",
       "      <td>False</td>\n",
       "    </tr>\n",
       "    <tr>\n",
       "      <th>2</th>\n",
       "      <td>False</td>\n",
       "      <td>False</td>\n",
       "      <td>False</td>\n",
       "      <td>False</td>\n",
       "      <td>False</td>\n",
       "      <td>False</td>\n",
       "      <td>False</td>\n",
       "      <td>False</td>\n",
       "      <td>False</td>\n",
       "    </tr>\n",
       "    <tr>\n",
       "      <th>3</th>\n",
       "      <td>False</td>\n",
       "      <td>False</td>\n",
       "      <td>False</td>\n",
       "      <td>False</td>\n",
       "      <td>False</td>\n",
       "      <td>False</td>\n",
       "      <td>False</td>\n",
       "      <td>False</td>\n",
       "      <td>False</td>\n",
       "    </tr>\n",
       "    <tr>\n",
       "      <th>4</th>\n",
       "      <td>False</td>\n",
       "      <td>False</td>\n",
       "      <td>False</td>\n",
       "      <td>False</td>\n",
       "      <td>False</td>\n",
       "      <td>False</td>\n",
       "      <td>False</td>\n",
       "      <td>False</td>\n",
       "      <td>False</td>\n",
       "    </tr>\n",
       "  </tbody>\n",
       "</table>\n",
       "</div>"
      ],
      "text/plain": [
       "    Bump  Crossing  Give_Way  Junction  No_Exit  Railway  Roundabout  Station  \\\n",
       "0  False     False     False     False    False    False       False    False   \n",
       "1  False     False     False     False    False    False       False    False   \n",
       "2  False     False     False     False    False    False       False    False   \n",
       "3  False     False     False     False    False    False       False    False   \n",
       "4  False     False     False     False    False    False       False    False   \n",
       "\n",
       "    Stop  \n",
       "0  False  \n",
       "1  False  \n",
       "2  False  \n",
       "3  False  \n",
       "4  False  "
      ]
     },
     "execution_count": 11,
     "metadata": {},
     "output_type": "execute_result"
    }
   ],
   "source": [
    "df_places.head()"
   ]
  },
  {
   "cell_type": "code",
   "execution_count": 12,
   "metadata": {},
   "outputs": [
    {
     "name": "stderr",
     "output_type": "stream",
     "text": [
      "/var/folders/6b/rhfs1dgj5jv3bq1s3qxjzx280000gn/T/ipykernel_65063/1109685847.py:1: SettingWithCopyWarning: \n",
      "A value is trying to be set on a copy of a slice from a DataFrame.\n",
      "Try using .loc[row_indexer,col_indexer] = value instead\n",
      "\n",
      "See the caveats in the documentation: https://pandas.pydata.org/pandas-docs/stable/user_guide/indexing.html#returning-a-view-versus-a-copy\n",
      "  df_places['Place_accident'] = df_places.apply(lambda row: ', '.join([col for col in df_places.columns if row[col]]), axis=1)\n"
     ]
    }
   ],
   "source": [
    "df_places['Place_accident'] = df_places.apply(lambda row: ', '.join([col for col in df_places.columns if row[col]]), axis=1)\n"
   ]
  },
  {
   "cell_type": "code",
   "execution_count": 13,
   "metadata": {},
   "outputs": [
    {
     "data": {
      "text/html": [
       "<div>\n",
       "<style scoped>\n",
       "    .dataframe tbody tr th:only-of-type {\n",
       "        vertical-align: middle;\n",
       "    }\n",
       "\n",
       "    .dataframe tbody tr th {\n",
       "        vertical-align: top;\n",
       "    }\n",
       "\n",
       "    .dataframe thead th {\n",
       "        text-align: right;\n",
       "    }\n",
       "</style>\n",
       "<table border=\"1\" class=\"dataframe\">\n",
       "  <thead>\n",
       "    <tr style=\"text-align: right;\">\n",
       "      <th></th>\n",
       "      <th>Bump</th>\n",
       "      <th>Crossing</th>\n",
       "      <th>Give_Way</th>\n",
       "      <th>Junction</th>\n",
       "      <th>No_Exit</th>\n",
       "      <th>Railway</th>\n",
       "      <th>Roundabout</th>\n",
       "      <th>Station</th>\n",
       "      <th>Stop</th>\n",
       "      <th>Place_accident</th>\n",
       "    </tr>\n",
       "  </thead>\n",
       "  <tbody>\n",
       "    <tr>\n",
       "      <th>0</th>\n",
       "      <td>False</td>\n",
       "      <td>False</td>\n",
       "      <td>False</td>\n",
       "      <td>False</td>\n",
       "      <td>False</td>\n",
       "      <td>False</td>\n",
       "      <td>False</td>\n",
       "      <td>False</td>\n",
       "      <td>False</td>\n",
       "      <td></td>\n",
       "    </tr>\n",
       "    <tr>\n",
       "      <th>1</th>\n",
       "      <td>False</td>\n",
       "      <td>False</td>\n",
       "      <td>False</td>\n",
       "      <td>False</td>\n",
       "      <td>False</td>\n",
       "      <td>False</td>\n",
       "      <td>False</td>\n",
       "      <td>False</td>\n",
       "      <td>False</td>\n",
       "      <td></td>\n",
       "    </tr>\n",
       "    <tr>\n",
       "      <th>2</th>\n",
       "      <td>False</td>\n",
       "      <td>False</td>\n",
       "      <td>False</td>\n",
       "      <td>False</td>\n",
       "      <td>False</td>\n",
       "      <td>False</td>\n",
       "      <td>False</td>\n",
       "      <td>False</td>\n",
       "      <td>False</td>\n",
       "      <td></td>\n",
       "    </tr>\n",
       "    <tr>\n",
       "      <th>3</th>\n",
       "      <td>False</td>\n",
       "      <td>False</td>\n",
       "      <td>False</td>\n",
       "      <td>False</td>\n",
       "      <td>False</td>\n",
       "      <td>False</td>\n",
       "      <td>False</td>\n",
       "      <td>False</td>\n",
       "      <td>False</td>\n",
       "      <td></td>\n",
       "    </tr>\n",
       "    <tr>\n",
       "      <th>4</th>\n",
       "      <td>False</td>\n",
       "      <td>False</td>\n",
       "      <td>False</td>\n",
       "      <td>False</td>\n",
       "      <td>False</td>\n",
       "      <td>False</td>\n",
       "      <td>False</td>\n",
       "      <td>False</td>\n",
       "      <td>False</td>\n",
       "      <td></td>\n",
       "    </tr>\n",
       "    <tr>\n",
       "      <th>5</th>\n",
       "      <td>False</td>\n",
       "      <td>False</td>\n",
       "      <td>False</td>\n",
       "      <td>False</td>\n",
       "      <td>False</td>\n",
       "      <td>False</td>\n",
       "      <td>False</td>\n",
       "      <td>False</td>\n",
       "      <td>False</td>\n",
       "      <td></td>\n",
       "    </tr>\n",
       "    <tr>\n",
       "      <th>6</th>\n",
       "      <td>False</td>\n",
       "      <td>False</td>\n",
       "      <td>False</td>\n",
       "      <td>False</td>\n",
       "      <td>False</td>\n",
       "      <td>False</td>\n",
       "      <td>False</td>\n",
       "      <td>False</td>\n",
       "      <td>False</td>\n",
       "      <td></td>\n",
       "    </tr>\n",
       "    <tr>\n",
       "      <th>7</th>\n",
       "      <td>False</td>\n",
       "      <td>False</td>\n",
       "      <td>False</td>\n",
       "      <td>False</td>\n",
       "      <td>False</td>\n",
       "      <td>False</td>\n",
       "      <td>False</td>\n",
       "      <td>False</td>\n",
       "      <td>False</td>\n",
       "      <td></td>\n",
       "    </tr>\n",
       "    <tr>\n",
       "      <th>8</th>\n",
       "      <td>False</td>\n",
       "      <td>False</td>\n",
       "      <td>False</td>\n",
       "      <td>False</td>\n",
       "      <td>False</td>\n",
       "      <td>False</td>\n",
       "      <td>False</td>\n",
       "      <td>False</td>\n",
       "      <td>False</td>\n",
       "      <td></td>\n",
       "    </tr>\n",
       "    <tr>\n",
       "      <th>9</th>\n",
       "      <td>False</td>\n",
       "      <td>False</td>\n",
       "      <td>False</td>\n",
       "      <td>False</td>\n",
       "      <td>False</td>\n",
       "      <td>False</td>\n",
       "      <td>False</td>\n",
       "      <td>False</td>\n",
       "      <td>False</td>\n",
       "      <td></td>\n",
       "    </tr>\n",
       "  </tbody>\n",
       "</table>\n",
       "</div>"
      ],
      "text/plain": [
       "    Bump  Crossing  Give_Way  Junction  No_Exit  Railway  Roundabout  Station  \\\n",
       "0  False     False     False     False    False    False       False    False   \n",
       "1  False     False     False     False    False    False       False    False   \n",
       "2  False     False     False     False    False    False       False    False   \n",
       "3  False     False     False     False    False    False       False    False   \n",
       "4  False     False     False     False    False    False       False    False   \n",
       "5  False     False     False     False    False    False       False    False   \n",
       "6  False     False     False     False    False    False       False    False   \n",
       "7  False     False     False     False    False    False       False    False   \n",
       "8  False     False     False     False    False    False       False    False   \n",
       "9  False     False     False     False    False    False       False    False   \n",
       "\n",
       "    Stop Place_accident  \n",
       "0  False                 \n",
       "1  False                 \n",
       "2  False                 \n",
       "3  False                 \n",
       "4  False                 \n",
       "5  False                 \n",
       "6  False                 \n",
       "7  False                 \n",
       "8  False                 \n",
       "9  False                 "
      ]
     },
     "execution_count": 13,
     "metadata": {},
     "output_type": "execute_result"
    }
   ],
   "source": [
    "df_places.head(10)"
   ]
  },
  {
   "cell_type": "markdown",
   "metadata": {},
   "source": []
  }
 ],
 "metadata": {
  "kernelspec": {
   "display_name": "base",
   "language": "python",
   "name": "python3"
  },
  "language_info": {
   "codemirror_mode": {
    "name": "ipython",
    "version": 3
   },
   "file_extension": ".py",
   "mimetype": "text/x-python",
   "name": "python",
   "nbconvert_exporter": "python",
   "pygments_lexer": "ipython3",
   "version": "3.11.4"
  },
  "orig_nbformat": 4
 },
 "nbformat": 4,
 "nbformat_minor": 2
}

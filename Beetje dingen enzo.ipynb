{
 "cells": [
  {
   "cell_type": "markdown",
   "metadata": {},
   "source": [
    "Data zoeken van Amerika van hoeveel automobilisten, percentage verzekerde mensen en percentage ongelukken van verzekerde mensen"
   ]
  },
  {
   "cell_type": "markdown",
   "metadata": {},
   "source": [
    "National average of $1,730 per year or $144 per month for full coverage\n",
    "\n",
    "(1) State Farm:\n",
    "Coverage Type\t      Cost Per Month\tCost Per Year\n",
    "Full coverage\t            $104\t       $1,250\n",
    "Minimum coverage\t        $52\t           $625\n",
    "\n",
    "\n",
    "Updated: Aug 10, 2023:\n",
    "Car Insurance Provider\tAverage Monthly Cost\tAverage Annual Cost\n",
    "USAA\t                      $88\t                  $1,054\n",
    "Erie Insurance\t              $103\t                  $1,238\n",
    "Nationwide\t                  $107\t                  $1,281\n",
    "Geico\t                      $109\t                  $1,308\n",
    "Auto-Owners Insurance\t      $111\t                  $1,337\n",
    "State Farm\t                  $123\t                  $1,481\n",
    "American Family Insurance\t  $128\t                  $1,537\n",
    "Progressive\t                  $134\t                  $1,611\n",
    "Travelers\t                  $139\t                  $1,669\n",
    "Allstate\t                  $174\t                  $2,088\n",
    "Farmers\t                      $178\t                  $2,140"
   ]
  },
  {
   "cell_type": "markdown",
   "metadata": {},
   "source": [
    "Data zoeken van Amerika van hoeveel automobilisten, percentage verzekerde mensen en percentage ongelukken van verzekerde mensen"
   ]
  },
  {
   "cell_type": "markdown",
   "metadata": {},
   "source": [
    "- In 2023 there are a projected 243.4 million licensed drivers in the US, which includes 89% of US adults.\n",
    "\n",
    "Updated: Aug 17 2023\n",
    "The vast majority of drivers have comprehensive and collision coverage. In addition to buying liability car insurance, 79% of insured drivers buy comprehensive coverage and 75% purchase collision coverage. One in eight drivers has no car insurance (12.6%).\n",
    "\n",
    "Collision claims are claims to an insurance company or payment of cost in repairing one's vehicle regardless of who is at fault for the damage. According to the car insurance claims database from 2018, 6.1% of all collision insurance policyholders in the US had a claim."
   ]
  },
  {
   "cell_type": "markdown",
   "metadata": {},
   "source": [
    "Inladen van modules en df:"
   ]
  },
  {
   "cell_type": "code",
   "execution_count": 1,
   "metadata": {},
   "outputs": [],
   "source": [
    "import pandas as pd\n",
    "import matplotlib.pyplot as plt\n",
    "import seaborn as sns\n",
    "import numpy as np\n",
    "\n",
    "\n",
    "df = pd.read_csv('US_Accidents_June20.csv')\n",
    "\n",
    "\n",
    "\n",
    "\n",
    "\n"
   ]
  },
  {
   "cell_type": "markdown",
   "metadata": {},
   "source": [
    "Algemene explorative data"
   ]
  },
  {
   "cell_type": "code",
   "execution_count": 3,
   "metadata": {},
   "outputs": [
    {
     "name": "stdout",
     "output_type": "stream",
     "text": [
      "Index(['ID', 'Source', 'TMC', 'Severity', 'Start_Time', 'End_Time',\n",
      "       'Start_Lat', 'Start_Lng', 'End_Lat', 'End_Lng', 'Distance(mi)',\n",
      "       'Description', 'Number', 'Street', 'Side', 'City', 'County', 'State',\n",
      "       'Zipcode', 'Country', 'Timezone', 'Airport_Code', 'Weather_Timestamp',\n",
      "       'Temperature(F)', 'Wind_Chill(F)', 'Humidity(%)', 'Pressure(in)',\n",
      "       'Visibility(mi)', 'Wind_Direction', 'Wind_Speed(mph)',\n",
      "       'Precipitation(in)', 'Weather_Condition', 'Amenity', 'Bump', 'Crossing',\n",
      "       'Give_Way', 'Junction', 'No_Exit', 'Railway', 'Roundabout', 'Station',\n",
      "       'Stop', 'Traffic_Calming', 'Traffic_Signal', 'Turning_Loop',\n",
      "       'Sunrise_Sunset', 'Civil_Twilight', 'Nautical_Twilight',\n",
      "       'Astronomical_Twilight'],\n",
      "      dtype='object')\n",
      "<class 'pandas.core.frame.DataFrame'>\n",
      "RangeIndex: 3513617 entries, 0 to 3513616\n",
      "Data columns (total 49 columns):\n",
      " #   Column                 Dtype  \n",
      "---  ------                 -----  \n",
      " 0   ID                     object \n",
      " 1   Source                 object \n",
      " 2   TMC                    float64\n",
      " 3   Severity               int64  \n",
      " 4   Start_Time             object \n",
      " 5   End_Time               object \n",
      " 6   Start_Lat              float64\n",
      " 7   Start_Lng              float64\n",
      " 8   End_Lat                float64\n",
      " 9   End_Lng                float64\n",
      " 10  Distance(mi)           float64\n",
      " 11  Description            object \n",
      " 12  Number                 float64\n",
      " 13  Street                 object \n",
      " 14  Side                   object \n",
      " 15  City                   object \n",
      " 16  County                 object \n",
      " 17  State                  object \n",
      " 18  Zipcode                object \n",
      " 19  Country                object \n",
      " 20  Timezone               object \n",
      " 21  Airport_Code           object \n",
      " 22  Weather_Timestamp      object \n",
      " 23  Temperature(F)         float64\n",
      " 24  Wind_Chill(F)          float64\n",
      " 25  Humidity(%)            float64\n",
      " 26  Pressure(in)           float64\n",
      " 27  Visibility(mi)         float64\n",
      " 28  Wind_Direction         object \n",
      " 29  Wind_Speed(mph)        float64\n",
      " 30  Precipitation(in)      float64\n",
      " 31  Weather_Condition      object \n",
      " 32  Amenity                bool   \n",
      " 33  Bump                   bool   \n",
      " 34  Crossing               bool   \n",
      " 35  Give_Way               bool   \n",
      " 36  Junction               bool   \n",
      " 37  No_Exit                bool   \n",
      " 38  Railway                bool   \n",
      " 39  Roundabout             bool   \n",
      " 40  Station                bool   \n",
      " 41  Stop                   bool   \n",
      " 42  Traffic_Calming        bool   \n",
      " 43  Traffic_Signal         bool   \n",
      " 44  Turning_Loop           bool   \n",
      " 45  Sunrise_Sunset         object \n",
      " 46  Civil_Twilight         object \n",
      " 47  Nautical_Twilight      object \n",
      " 48  Astronomical_Twilight  object \n",
      "dtypes: bool(13), float64(14), int64(1), object(21)\n",
      "memory usage: 1008.6+ MB\n"
     ]
    },
    {
     "data": {
      "text/html": [
       "<div>\n",
       "<style scoped>\n",
       "    .dataframe tbody tr th:only-of-type {\n",
       "        vertical-align: middle;\n",
       "    }\n",
       "\n",
       "    .dataframe tbody tr th {\n",
       "        vertical-align: top;\n",
       "    }\n",
       "\n",
       "    .dataframe thead th {\n",
       "        text-align: right;\n",
       "    }\n",
       "</style>\n",
       "<table border=\"1\" class=\"dataframe\">\n",
       "  <thead>\n",
       "    <tr style=\"text-align: right;\">\n",
       "      <th></th>\n",
       "      <th>ID</th>\n",
       "      <th>Source</th>\n",
       "      <th>TMC</th>\n",
       "      <th>Severity</th>\n",
       "      <th>Start_Time</th>\n",
       "      <th>End_Time</th>\n",
       "      <th>Start_Lat</th>\n",
       "      <th>Start_Lng</th>\n",
       "      <th>End_Lat</th>\n",
       "      <th>End_Lng</th>\n",
       "      <th>...</th>\n",
       "      <th>Roundabout</th>\n",
       "      <th>Station</th>\n",
       "      <th>Stop</th>\n",
       "      <th>Traffic_Calming</th>\n",
       "      <th>Traffic_Signal</th>\n",
       "      <th>Turning_Loop</th>\n",
       "      <th>Sunrise_Sunset</th>\n",
       "      <th>Civil_Twilight</th>\n",
       "      <th>Nautical_Twilight</th>\n",
       "      <th>Astronomical_Twilight</th>\n",
       "    </tr>\n",
       "  </thead>\n",
       "  <tbody>\n",
       "    <tr>\n",
       "      <th>0</th>\n",
       "      <td>A-1</td>\n",
       "      <td>MapQuest</td>\n",
       "      <td>201.0</td>\n",
       "      <td>3</td>\n",
       "      <td>2016-02-08 05:46:00</td>\n",
       "      <td>2016-02-08 11:00:00</td>\n",
       "      <td>39.865147</td>\n",
       "      <td>-84.058723</td>\n",
       "      <td>NaN</td>\n",
       "      <td>NaN</td>\n",
       "      <td>...</td>\n",
       "      <td>False</td>\n",
       "      <td>False</td>\n",
       "      <td>False</td>\n",
       "      <td>False</td>\n",
       "      <td>False</td>\n",
       "      <td>False</td>\n",
       "      <td>Night</td>\n",
       "      <td>Night</td>\n",
       "      <td>Night</td>\n",
       "      <td>Night</td>\n",
       "    </tr>\n",
       "    <tr>\n",
       "      <th>1</th>\n",
       "      <td>A-2</td>\n",
       "      <td>MapQuest</td>\n",
       "      <td>201.0</td>\n",
       "      <td>2</td>\n",
       "      <td>2016-02-08 06:07:59</td>\n",
       "      <td>2016-02-08 06:37:59</td>\n",
       "      <td>39.928059</td>\n",
       "      <td>-82.831184</td>\n",
       "      <td>NaN</td>\n",
       "      <td>NaN</td>\n",
       "      <td>...</td>\n",
       "      <td>False</td>\n",
       "      <td>False</td>\n",
       "      <td>False</td>\n",
       "      <td>False</td>\n",
       "      <td>False</td>\n",
       "      <td>False</td>\n",
       "      <td>Night</td>\n",
       "      <td>Night</td>\n",
       "      <td>Night</td>\n",
       "      <td>Day</td>\n",
       "    </tr>\n",
       "    <tr>\n",
       "      <th>2</th>\n",
       "      <td>A-3</td>\n",
       "      <td>MapQuest</td>\n",
       "      <td>201.0</td>\n",
       "      <td>2</td>\n",
       "      <td>2016-02-08 06:49:27</td>\n",
       "      <td>2016-02-08 07:19:27</td>\n",
       "      <td>39.063148</td>\n",
       "      <td>-84.032608</td>\n",
       "      <td>NaN</td>\n",
       "      <td>NaN</td>\n",
       "      <td>...</td>\n",
       "      <td>False</td>\n",
       "      <td>False</td>\n",
       "      <td>False</td>\n",
       "      <td>False</td>\n",
       "      <td>True</td>\n",
       "      <td>False</td>\n",
       "      <td>Night</td>\n",
       "      <td>Night</td>\n",
       "      <td>Day</td>\n",
       "      <td>Day</td>\n",
       "    </tr>\n",
       "    <tr>\n",
       "      <th>3</th>\n",
       "      <td>A-4</td>\n",
       "      <td>MapQuest</td>\n",
       "      <td>201.0</td>\n",
       "      <td>3</td>\n",
       "      <td>2016-02-08 07:23:34</td>\n",
       "      <td>2016-02-08 07:53:34</td>\n",
       "      <td>39.747753</td>\n",
       "      <td>-84.205582</td>\n",
       "      <td>NaN</td>\n",
       "      <td>NaN</td>\n",
       "      <td>...</td>\n",
       "      <td>False</td>\n",
       "      <td>False</td>\n",
       "      <td>False</td>\n",
       "      <td>False</td>\n",
       "      <td>False</td>\n",
       "      <td>False</td>\n",
       "      <td>Night</td>\n",
       "      <td>Day</td>\n",
       "      <td>Day</td>\n",
       "      <td>Day</td>\n",
       "    </tr>\n",
       "    <tr>\n",
       "      <th>4</th>\n",
       "      <td>A-5</td>\n",
       "      <td>MapQuest</td>\n",
       "      <td>201.0</td>\n",
       "      <td>2</td>\n",
       "      <td>2016-02-08 07:39:07</td>\n",
       "      <td>2016-02-08 08:09:07</td>\n",
       "      <td>39.627781</td>\n",
       "      <td>-84.188354</td>\n",
       "      <td>NaN</td>\n",
       "      <td>NaN</td>\n",
       "      <td>...</td>\n",
       "      <td>False</td>\n",
       "      <td>False</td>\n",
       "      <td>False</td>\n",
       "      <td>False</td>\n",
       "      <td>True</td>\n",
       "      <td>False</td>\n",
       "      <td>Day</td>\n",
       "      <td>Day</td>\n",
       "      <td>Day</td>\n",
       "      <td>Day</td>\n",
       "    </tr>\n",
       "  </tbody>\n",
       "</table>\n",
       "<p>5 rows × 49 columns</p>\n",
       "</div>"
      ],
      "text/plain": [
       "    ID    Source    TMC  Severity           Start_Time             End_Time  \\\n",
       "0  A-1  MapQuest  201.0         3  2016-02-08 05:46:00  2016-02-08 11:00:00   \n",
       "1  A-2  MapQuest  201.0         2  2016-02-08 06:07:59  2016-02-08 06:37:59   \n",
       "2  A-3  MapQuest  201.0         2  2016-02-08 06:49:27  2016-02-08 07:19:27   \n",
       "3  A-4  MapQuest  201.0         3  2016-02-08 07:23:34  2016-02-08 07:53:34   \n",
       "4  A-5  MapQuest  201.0         2  2016-02-08 07:39:07  2016-02-08 08:09:07   \n",
       "\n",
       "   Start_Lat  Start_Lng  End_Lat  End_Lng  ...  Roundabout Station   Stop  \\\n",
       "0  39.865147 -84.058723      NaN      NaN  ...       False   False  False   \n",
       "1  39.928059 -82.831184      NaN      NaN  ...       False   False  False   \n",
       "2  39.063148 -84.032608      NaN      NaN  ...       False   False  False   \n",
       "3  39.747753 -84.205582      NaN      NaN  ...       False   False  False   \n",
       "4  39.627781 -84.188354      NaN      NaN  ...       False   False  False   \n",
       "\n",
       "  Traffic_Calming Traffic_Signal Turning_Loop Sunrise_Sunset Civil_Twilight  \\\n",
       "0           False          False        False          Night          Night   \n",
       "1           False          False        False          Night          Night   \n",
       "2           False           True        False          Night          Night   \n",
       "3           False          False        False          Night            Day   \n",
       "4           False           True        False            Day            Day   \n",
       "\n",
       "  Nautical_Twilight Astronomical_Twilight  \n",
       "0             Night                 Night  \n",
       "1             Night                   Day  \n",
       "2               Day                   Day  \n",
       "3               Day                   Day  \n",
       "4               Day                   Day  \n",
       "\n",
       "[5 rows x 49 columns]"
      ]
     },
     "execution_count": 3,
     "metadata": {},
     "output_type": "execute_result"
    }
   ],
   "source": [
    "print(df.columns)\n",
    "df.info()\n",
    "df.head()"
   ]
  },
  {
   "cell_type": "code",
   "execution_count": null,
   "metadata": {},
   "outputs": [],
   "source": [
    "# Bereken basisstatistieken voor numerieke kolommen\n",
    "statistieken = df.describe()\n",
    "\n",
    "# Toon de statistieken\n",
    "print(\"Basisstatistieken voor numerieke kolommen:\")\n",
    "print(statistieken)\n",
    "\n",
    "# Bereken modus voor alle kolommen\n",
    "modus = df.mode()\n",
    "\n",
    "# Toon de modus\n",
    "print(\"\\nModus voor alle kolommen:\")\n",
    "print(modus)"
   ]
  },
  {
   "cell_type": "markdown",
   "metadata": {},
   "source": [
    "df schoonmaken "
   ]
  },
  {
   "cell_type": "code",
   "execution_count": 2,
   "metadata": {},
   "outputs": [],
   "source": [
    "df[\"Start_Time\"] = pd.to_datetime(df[\"Start_Time\"])\n",
    "df[\"End_Time\"] = pd.to_datetime(df[\"End_Time\"])"
   ]
  },
  {
   "cell_type": "markdown",
   "metadata": {},
   "source": [
    "specifieke slechte data aantekeningen"
   ]
  },
  {
   "cell_type": "code",
   "execution_count": 4,
   "metadata": {},
   "outputs": [],
   "source": [
    "#d = df[df['State'] == 'CA']['City'].unique()\n",
    "#print(d[600:1100]) #non ca cities in this list\n",
    "#df['Wind_Direction'].unique()\n",
    "# Saint Johns (Note: This appears twice, it should likely be St. Johns) FL state\n",
    "#(Note: This appears twice, it should likely be St. Lucie) FL state\n",
    "\n",
    "#TX state does not contain all counties"
   ]
  },
  {
   "cell_type": "code",
   "execution_count": null,
   "metadata": {},
   "outputs": [],
   "source": [
    "# Get columns with missing values and the number of missing values in each column\n",
    "columns_with_missing_values = df.columns[df.isnull().any()]\n",
    "missing_values_per_column = df[columns_with_missing_values].isnull().sum()\n",
    "\n",
    "# Iterate through columns with missing values and print the information\n",
    "for column in columns_with_missing_values:\n",
    "    missing_count = missing_values_per_column[column]\n",
    "    print(f'\"{column}\" heeft {missing_count} missende waardes')"
   ]
  },
  {
   "cell_type": "markdown",
   "metadata": {},
   "source": [
    "Data op landelijke schaal (Bart)"
   ]
  },
  {
   "cell_type": "code",
   "execution_count": 43,
   "metadata": {},
   "outputs": [
    {
     "data": {
      "image/png": "[encoded data removed]",
      "text/plain": [
       "<Figure size 1296x432 with 1 Axes>"
      ]
     },
     "metadata": {
      "needs_background": "light"
     },
     "output_type": "display_data"
    }
   ],
   "source": [
    "state_accident_counts = df['Severity'].value_counts()\n",
    "state_accident_counts = state_accident_counts.sort_index(ascending=True)\n",
    "\n",
    "plt.figure(figsize=(18, 6))\n",
    "state_accident_counts.plot(kind='bar', color='skyblue')\n",
    "plt.title('Severity')\n",
    "plt.xlabel('Severity')\n",
    "plt.ylabel('Aantal ongelukken')\n",
    "plt.xticks(rotation=45) \n",
    "plt.tight_layout()\n",
    "plt.show()"
   ]
  },
  {
   "cell_type": "code",
   "execution_count": null,
   "metadata": {},
   "outputs": [],
   "source": [
    "# Bereken basisstatistieken voor numerieke kolommen\n",
    "statistieken = df.describe()\n",
    "\n",
    "# Toon de statistieken\n",
    "print(\"Basisstatistieken voor numerieke kolommen:\")\n",
    "print(statistieken)\n",
    "\n",
    "# Bereken modus voor alle kolommen\n",
    "modus = df.mode()\n",
    "\n",
    "# Toon de modus\n",
    "print(\"\\nModus voor alle kolommen:\")\n",
    "print(modus)"
   ]
  },
  {
   "cell_type": "code",
   "execution_count": null,
   "metadata": {},
   "outputs": [],
   "source": [
    "# Boxplot van 'Severity' vs. 'Temperature(F)'\n",
    "plt.figure(figsize=(8, 5))\n",
    "sns.boxplot(x='Severity', y='Temperature(F)', data=df)\n",
    "plt.title('Boxplot van Severity vs. Temperature(F)')\n",
    "plt.xlabel('Severity')\n",
    "plt.ylabel('Temperature(F)')\n",
    "plt.show()"
   ]
  },
  {
   "cell_type": "code",
   "execution_count": null,
   "metadata": {},
   "outputs": [],
   "source": [
    "plt.figure(figsize=(10, 6))\n",
    "sns.boxplot(x='Sunrise_Sunset', y='Severity', data=df)\n",
    "plt.title('Paired Boxplots van Sunrise_Sunset en Severity')\n",
    "plt.xlabel('Sunrise_Sunset')\n",
    "plt.ylabel('Severity')\n",
    "plt.show()"
   ]
  },
  {
   "cell_type": "code",
   "execution_count": 61,
   "metadata": {},
   "outputs": [
    {
     "data": {
      "image/png": "[encoded data removed]",
      "text/plain": [
       "<Figure size 1296x432 with 1 Axes>"
      ]
     },
     "metadata": {
      "needs_background": "light"
     },
     "output_type": "display_data"
    }
   ],
   "source": [
    "state_accident_counts = df['Side'].value_counts().head(60)\n",
    "state_accident_counts = state_accident_counts.sort_index(ascending=True)\n",
    "\n",
    "plt.figure(figsize=(18, 6))\n",
    "state_accident_counts.plot(kind='bar', color='skyblue')\n",
    "plt.title('accidents and side')\n",
    "plt.xlabel('Side')\n",
    "plt.ylabel('Aantal ongelukken')\n",
    "plt.xticks(rotation=45) \n",
    "plt.tight_layout()\n",
    "plt.show()"
   ]
  },
  {
   "cell_type": "markdown",
   "metadata": {},
   "source": [
    "Quint \n"
   ]
  },
  {
   "cell_type": "code",
   "execution_count": 21,
   "metadata": {},
   "outputs": [],
   "source": [
    "df_places = df[['Bump','Crossing','Give_Way','Junction','No_Exit','Railway','Roundabout','Station','Stop','Traffic_Calming','Traffic_Signal','Turning_Loop']]"
   ]
  },
  {
   "cell_type": "code",
   "execution_count": 22,
   "metadata": {},
   "outputs": [
    {
     "name": "stderr",
     "output_type": "stream",
     "text": [
      "/var/folders/6b/rhfs1dgj5jv3bq1s3qxjzx280000gn/T/ipykernel_66042/4072891996.py:1: SettingWithCopyWarning: \n",
      "A value is trying to be set on a copy of a slice from a DataFrame.\n",
      "Try using .loc[row_indexer,col_indexer] = value instead\n",
      "\n",
      "See the caveats in the documentation: https://pandas.pydata.org/pandas-docs/stable/user_guide/indexing.html#returning-a-view-versus-a-copy\n",
      "  df_places['Place_accident'] = df_places.apply(lambda row: ','.join([col for col in df_places.columns if row[col]]), axis=1)\n"
     ]
    }
   ],
   "source": [
    "df_places['Place_accident'] = df_places.apply(lambda row: ','.join([col for col in df_places.columns if row[col]]), axis=1)\n"
   ]
  },
  {
   "cell_type": "code",
   "execution_count": 23,
   "metadata": {},
   "outputs": [
    {
     "data": {
      "text/html": [
       "<div>\n",
       "<style scoped>\n",
       "    .dataframe tbody tr th:only-of-type {\n",
       "        vertical-align: middle;\n",
       "    }\n",
       "\n",
       "    .dataframe tbody tr th {\n",
       "        vertical-align: top;\n",
       "    }\n",
       "\n",
       "    .dataframe thead th {\n",
       "        text-align: right;\n",
       "    }\n",
       "</style>\n",
       "<table border=\"1\" class=\"dataframe\">\n",
       "  <thead>\n",
       "    <tr style=\"text-align: right;\">\n",
       "      <th></th>\n",
       "      <th>Bump</th>\n",
       "      <th>Crossing</th>\n",
       "      <th>Give_Way</th>\n",
       "      <th>Junction</th>\n",
       "      <th>No_Exit</th>\n",
       "      <th>Railway</th>\n",
       "      <th>Roundabout</th>\n",
       "      <th>Station</th>\n",
       "      <th>Stop</th>\n",
       "      <th>Traffic_Calming</th>\n",
       "      <th>Traffic_Signal</th>\n",
       "      <th>Turning_Loop</th>\n",
       "      <th>Place_accident</th>\n",
       "    </tr>\n",
       "  </thead>\n",
       "  <tbody>\n",
       "    <tr>\n",
       "      <th>0</th>\n",
       "      <td>False</td>\n",
       "      <td>False</td>\n",
       "      <td>False</td>\n",
       "      <td>False</td>\n",
       "      <td>False</td>\n",
       "      <td>False</td>\n",
       "      <td>False</td>\n",
       "      <td>False</td>\n",
       "      <td>False</td>\n",
       "      <td>False</td>\n",
       "      <td>False</td>\n",
       "      <td>False</td>\n",
       "      <td></td>\n",
       "    </tr>\n",
       "    <tr>\n",
       "      <th>1</th>\n",
       "      <td>False</td>\n",
       "      <td>False</td>\n",
       "      <td>False</td>\n",
       "      <td>False</td>\n",
       "      <td>False</td>\n",
       "      <td>False</td>\n",
       "      <td>False</td>\n",
       "      <td>False</td>\n",
       "      <td>False</td>\n",
       "      <td>False</td>\n",
       "      <td>False</td>\n",
       "      <td>False</td>\n",
       "      <td></td>\n",
       "    </tr>\n",
       "    <tr>\n",
       "      <th>2</th>\n",
       "      <td>False</td>\n",
       "      <td>False</td>\n",
       "      <td>False</td>\n",
       "      <td>False</td>\n",
       "      <td>False</td>\n",
       "      <td>False</td>\n",
       "      <td>False</td>\n",
       "      <td>False</td>\n",
       "      <td>False</td>\n",
       "      <td>False</td>\n",
       "      <td>True</td>\n",
       "      <td>False</td>\n",
       "      <td>Traffic_Signal</td>\n",
       "    </tr>\n",
       "    <tr>\n",
       "      <th>3</th>\n",
       "      <td>False</td>\n",
       "      <td>False</td>\n",
       "      <td>False</td>\n",
       "      <td>False</td>\n",
       "      <td>False</td>\n",
       "      <td>False</td>\n",
       "      <td>False</td>\n",
       "      <td>False</td>\n",
       "      <td>False</td>\n",
       "      <td>False</td>\n",
       "      <td>False</td>\n",
       "      <td>False</td>\n",
       "      <td></td>\n",
       "    </tr>\n",
       "    <tr>\n",
       "      <th>4</th>\n",
       "      <td>False</td>\n",
       "      <td>False</td>\n",
       "      <td>False</td>\n",
       "      <td>False</td>\n",
       "      <td>False</td>\n",
       "      <td>False</td>\n",
       "      <td>False</td>\n",
       "      <td>False</td>\n",
       "      <td>False</td>\n",
       "      <td>False</td>\n",
       "      <td>True</td>\n",
       "      <td>False</td>\n",
       "      <td>Traffic_Signal</td>\n",
       "    </tr>\n",
       "    <tr>\n",
       "      <th>5</th>\n",
       "      <td>False</td>\n",
       "      <td>False</td>\n",
       "      <td>False</td>\n",
       "      <td>False</td>\n",
       "      <td>False</td>\n",
       "      <td>False</td>\n",
       "      <td>False</td>\n",
       "      <td>False</td>\n",
       "      <td>False</td>\n",
       "      <td>False</td>\n",
       "      <td>False</td>\n",
       "      <td>False</td>\n",
       "      <td></td>\n",
       "    </tr>\n",
       "    <tr>\n",
       "      <th>6</th>\n",
       "      <td>False</td>\n",
       "      <td>False</td>\n",
       "      <td>False</td>\n",
       "      <td>False</td>\n",
       "      <td>False</td>\n",
       "      <td>False</td>\n",
       "      <td>False</td>\n",
       "      <td>False</td>\n",
       "      <td>False</td>\n",
       "      <td>False</td>\n",
       "      <td>False</td>\n",
       "      <td>False</td>\n",
       "      <td></td>\n",
       "    </tr>\n",
       "    <tr>\n",
       "      <th>7</th>\n",
       "      <td>False</td>\n",
       "      <td>False</td>\n",
       "      <td>False</td>\n",
       "      <td>False</td>\n",
       "      <td>False</td>\n",
       "      <td>False</td>\n",
       "      <td>False</td>\n",
       "      <td>False</td>\n",
       "      <td>False</td>\n",
       "      <td>False</td>\n",
       "      <td>False</td>\n",
       "      <td>False</td>\n",
       "      <td></td>\n",
       "    </tr>\n",
       "    <tr>\n",
       "      <th>8</th>\n",
       "      <td>False</td>\n",
       "      <td>False</td>\n",
       "      <td>False</td>\n",
       "      <td>False</td>\n",
       "      <td>False</td>\n",
       "      <td>False</td>\n",
       "      <td>False</td>\n",
       "      <td>False</td>\n",
       "      <td>False</td>\n",
       "      <td>False</td>\n",
       "      <td>False</td>\n",
       "      <td>False</td>\n",
       "      <td></td>\n",
       "    </tr>\n",
       "    <tr>\n",
       "      <th>9</th>\n",
       "      <td>False</td>\n",
       "      <td>False</td>\n",
       "      <td>False</td>\n",
       "      <td>False</td>\n",
       "      <td>False</td>\n",
       "      <td>False</td>\n",
       "      <td>False</td>\n",
       "      <td>False</td>\n",
       "      <td>False</td>\n",
       "      <td>False</td>\n",
       "      <td>False</td>\n",
       "      <td>False</td>\n",
       "      <td></td>\n",
       "    </tr>\n",
       "  </tbody>\n",
       "</table>\n",
       "</div>"
      ],
      "text/plain": [
       "    Bump  Crossing  Give_Way  Junction  No_Exit  Railway  Roundabout  Station  \\\n",
       "0  False     False     False     False    False    False       False    False   \n",
       "1  False     False     False     False    False    False       False    False   \n",
       "2  False     False     False     False    False    False       False    False   \n",
       "3  False     False     False     False    False    False       False    False   \n",
       "4  False     False     False     False    False    False       False    False   \n",
       "5  False     False     False     False    False    False       False    False   \n",
       "6  False     False     False     False    False    False       False    False   \n",
       "7  False     False     False     False    False    False       False    False   \n",
       "8  False     False     False     False    False    False       False    False   \n",
       "9  False     False     False     False    False    False       False    False   \n",
       "\n",
       "    Stop  Traffic_Calming  Traffic_Signal  Turning_Loop  Place_accident  \n",
       "0  False            False           False         False                  \n",
       "1  False            False           False         False                  \n",
       "2  False            False            True         False  Traffic_Signal  \n",
       "3  False            False           False         False                  \n",
       "4  False            False            True         False  Traffic_Signal  \n",
       "5  False            False           False         False                  \n",
       "6  False            False           False         False                  \n",
       "7  False            False           False         False                  \n",
       "8  False            False           False         False                  \n",
       "9  False            False           False         False                  "
      ]
     },
     "execution_count": 23,
     "metadata": {},
     "output_type": "execute_result"
    }
   ],
   "source": [
    "df_places.head(10)"
   ]
  },
  {
   "cell_type": "code",
   "execution_count": 78,
   "metadata": {},
   "outputs": [
    {
     "name": "stdout",
     "output_type": "stream",
     "text": [
      "       Year  Gender    Cohort       State  Drivers\n",
      "0      2017    Male  Under 16     Alabama      0.0\n",
      "1      2017    Male  Under 16      Alaska      0.0\n",
      "2      2017    Male  Under 16     Arizona      0.0\n",
      "3      2017    Male  Under 16    Arkansas      0.0\n",
      "4      2017    Male  Under 16  California      0.0\n",
      "...     ...     ...       ...         ...      ...\n",
      "57829  2018  Female     65-69     Wyoming  16061.0\n",
      "57830  2018  Female     70-74     Wyoming  11804.0\n",
      "57831  2018  Female     75-79     Wyoming   7770.0\n",
      "57832  2018  Female     80-84     Wyoming   4715.0\n",
      "57833  2018  Female       85+     Wyoming   3456.0\n",
      "\n",
      "[57834 rows x 5 columns]\n"
     ]
    }
   ],
   "source": [
    "# Drivers per state, kaggle Data set\n",
    "\n",
    "df_drivers_by_state = pd.read_csv('Licensed_drivers_By_State.csv')\n",
    "print(df_drivers_by_state)\n"
   ]
  },
  {
   "cell_type": "code",
   "execution_count": 89,
   "metadata": {},
   "outputs": [],
   "source": [
    "# Calculate sum per state\n",
    "\n",
    "\n",
    "sum_per_state = df_drivers_by_state.groupby('State')['Drivers'].sum()\n",
    "sum_per_state_sorted = sum_per_state.sort_values(ascending=False)\n",
    "\n",
    "# Create dataframe\n",
    "df_licensed_drivers = pd.DataFrame({'Licensed_Drivers': sum_per_state_sorted})\n"
   ]
  },
  {
   "cell_type": "code",
   "execution_count": 92,
   "metadata": {},
   "outputs": [
    {
     "name": "stdout",
     "output_type": "stream",
     "text": [
      "                   State  Licensed_Drivers\n",
      "0                     CA       576317897.0\n",
      "1                     TX       362911317.0\n",
      "2                     FL       332206242.0\n",
      "3                     NY       278903109.0\n",
      "4                     PA       214285552.0\n",
      "5                     IL       202089002.0\n",
      "6                     OH       197074002.0\n",
      "7                     MI       174597232.0\n",
      "8                     NC       155971968.0\n",
      "9                     GA       150907550.0\n",
      "10                    NJ       146079208.0\n",
      "11                    VA       131059091.0\n",
      "12                    WA       118755159.0\n",
      "13                    MA       116153834.0\n",
      "14                    IN       112910836.0\n",
      "15                    TN       110096934.0\n",
      "16                    MO       101008854.0\n",
      "17                    AZ       100843536.0\n",
      "18                    WI        98554261.0\n",
      "19                    MD        91949382.0\n",
      "20                    AL        91094599.0\n",
      "21                    CO        85660123.0\n",
      "22                    SC        78281683.0\n",
      "23                    MN        77805906.0\n",
      "24                    LA        75567250.0\n",
      "25                    KY        70926827.0\n",
      "26                    OR        67021988.0\n",
      "27                    CT        65385659.0\n",
      "28                    OK        58822329.0\n",
      "29                    IA        51729059.0\n",
      "30                    AR        50487454.0\n",
      "31                    KS        48999875.0\n",
      "32                    MS        47402673.0\n",
      "33                    UT        40094991.0\n",
      "34                    NV        38746481.0\n",
      "35                    NM        33193302.0\n",
      "36                    NE        32521106.0\n",
      "37                    WV        31588406.0\n",
      "38                    NH        25031620.0\n",
      "39                    ID        24891368.0\n",
      "40                    ME        24332507.0\n",
      "41                    HI        21157279.0\n",
      "42                    RI        18066030.0\n",
      "43                    MT        17752160.0\n",
      "44                    DE        15862596.0\n",
      "45                    SD        14408344.0\n",
      "46                    VT        13043249.0\n",
      "47                    AK        12295331.0\n",
      "48                    ND        12101576.0\n",
      "49                    WY         9691087.0\n",
      "50  District of Columbia         9565832.0\n"
     ]
    }
   ],
   "source": [
    "df_licensed_drivers = df_licensed_drivers.reset_index()\n",
    "\n",
    "state_abbreviations = {\n",
    "    'Alabama': 'AL', 'Alaska': 'AK', 'Arizona': 'AZ', 'Arkansas': 'AR',\n",
    "    'California': 'CA', 'Colorado': 'CO', 'Connecticut': 'CT', 'Delaware': 'DE',\n",
    "    'Florida': 'FL', 'Georgia': 'GA', 'Hawaii': 'HI', 'Idaho': 'ID',\n",
    "    'Illinois': 'IL', 'Indiana': 'IN', 'Iowa': 'IA', 'Kansas': 'KS',\n",
    "    'Kentucky': 'KY', 'Louisiana': 'LA', 'Maine': 'ME', 'Maryland': 'MD',\n",
    "    'Massachusetts': 'MA', 'Michigan': 'MI', 'Minnesota': 'MN', 'Mississippi': 'MS',\n",
    "    'Missouri': 'MO', 'Montana': 'MT', 'Nebraska': 'NE', 'Nevada': 'NV',\n",
    "    'New Hampshire': 'NH', 'New Jersey': 'NJ', 'New Mexico': 'NM', 'New York': 'NY',\n",
    "    'North Carolina': 'NC', 'North Dakota': 'ND', 'Ohio': 'OH', 'Oklahoma': 'OK',\n",
    "    'Oregon': 'OR', 'Pennsylvania': 'PA', 'Rhode Island': 'RI', 'South Carolina': 'SC',\n",
    "    'South Dakota': 'SD', 'Tennessee': 'TN', 'Texas': 'TX', 'Utah': 'UT',\n",
    "    'Vermont': 'VT', 'Virginia': 'VA', 'Washington': 'WA', 'West Virginia': 'WV',\n",
    "    'Wisconsin': 'WI', 'Wyoming': 'WY'\n",
    "}\n",
    "\n",
    "df_licensed_drivers['State'] = df_licensed_drivers['State'].replace(state_abbreviations)\n",
    "\n",
    "print(df_licensed_drivers)\n",
    "\n"
   ]
  },
  {
   "cell_type": "code",
   "execution_count": 94,
   "metadata": {},
   "outputs": [
    {
     "name": "stdout",
     "output_type": "stream",
     "text": [
      "   State  Accident_counts\n",
      "0     CA           816825\n",
      "1     TX           329284\n",
      "2     FL           258002\n",
      "3     SC           173277\n",
      "4     NC           165958\n",
      "5     NY           160817\n",
      "6     PA           106787\n",
      "7     IL            99692\n",
      "8     VA            96075\n",
      "9     MI            95983\n",
      "10    GA            93614\n",
      "11    OR            90122\n",
      "12    MN            81863\n",
      "13    AZ            78584\n",
      "14    TN            69895\n",
      "15    WA            68544\n",
      "16    OH            66139\n",
      "17    LA            61515\n",
      "18    OK            60003\n",
      "19    NJ            59059\n",
      "20    MD            53593\n",
      "21    UT            51685\n",
      "22    CO            49731\n",
      "23    AL            44625\n",
      "24    MA            39044\n",
      "25    IN            33746\n",
      "26    MO            33643\n",
      "27    CT            25901\n",
      "28    NE            23970\n",
      "29    KY            22553\n",
      "30    WI            20120\n",
      "31    RI            11753\n",
      "32    IA            11475\n",
      "33    NV            10643\n",
      "34    NH             7984\n",
      "35    KS             7939\n",
      "36    MS             6585\n",
      "37    DE             5739\n",
      "38    NM             5523\n",
      "39    DC             4820\n",
      "40    WV             2381\n",
      "41    ME             2243\n",
      "42    ID             2044\n",
      "43    AR             2012\n",
      "44    VT              702\n",
      "45    MT              512\n",
      "46    WY              508\n",
      "47    SD               61\n",
      "48    ND               44\n"
     ]
    }
   ],
   "source": [
    "state_accident_counts = df['State'].value_counts()\n",
    "df_state_accident_counts = pd.DataFrame({'Accident_counts': state_accident_counts})\n",
    "df_state_accident_counts = df_state_accident_counts.reset_index()\n",
    "\n",
    "print(df_state_accident_counts)"
   ]
  },
  {
   "cell_type": "code",
   "execution_count": 97,
   "metadata": {},
   "outputs": [
    {
     "name": "stdout",
     "output_type": "stream",
     "text": [
      "                   State  Licensed_Drivers  Accident_counts\n",
      "0                     CA       576317897.0         816825.0\n",
      "1                     TX       362911317.0         329284.0\n",
      "2                     FL       332206242.0         258002.0\n",
      "3                     NY       278903109.0         160817.0\n",
      "4                     PA       214285552.0         106787.0\n",
      "5                     IL       202089002.0          99692.0\n",
      "6                     OH       197074002.0          66139.0\n",
      "7                     MI       174597232.0          95983.0\n",
      "8                     NC       155971968.0         165958.0\n",
      "9                     GA       150907550.0          93614.0\n",
      "10                    NJ       146079208.0          59059.0\n",
      "11                    VA       131059091.0          96075.0\n",
      "12                    WA       118755159.0          68544.0\n",
      "13                    MA       116153834.0          39044.0\n",
      "14                    IN       112910836.0          33746.0\n",
      "15                    TN       110096934.0          69895.0\n",
      "16                    MO       101008854.0          33643.0\n",
      "17                    AZ       100843536.0          78584.0\n",
      "18                    WI        98554261.0          20120.0\n",
      "19                    MD        91949382.0          53593.0\n",
      "20                    AL        91094599.0          44625.0\n",
      "21                    CO        85660123.0          49731.0\n",
      "22                    SC        78281683.0         173277.0\n",
      "23                    MN        77805906.0          81863.0\n",
      "24                    LA        75567250.0          61515.0\n",
      "25                    KY        70926827.0          22553.0\n",
      "26                    OR        67021988.0          90122.0\n",
      "27                    CT        65385659.0          25901.0\n",
      "28                    OK        58822329.0          60003.0\n",
      "29                    IA        51729059.0          11475.0\n",
      "30                    AR        50487454.0           2012.0\n",
      "31                    KS        48999875.0           7939.0\n",
      "32                    MS        47402673.0           6585.0\n",
      "33                    UT        40094991.0          51685.0\n",
      "34                    NV        38746481.0          10643.0\n",
      "35                    NM        33193302.0           5523.0\n",
      "36                    NE        32521106.0          23970.0\n",
      "37                    WV        31588406.0           2381.0\n",
      "38                    NH        25031620.0           7984.0\n",
      "39                    ID        24891368.0           2044.0\n",
      "40                    ME        24332507.0           2243.0\n",
      "41                    HI        21157279.0              NaN\n",
      "42                    RI        18066030.0          11753.0\n",
      "43                    MT        17752160.0            512.0\n",
      "44                    DE        15862596.0           5739.0\n",
      "45                    SD        14408344.0             61.0\n",
      "46                    VT        13043249.0            702.0\n",
      "47                    AK        12295331.0              NaN\n",
      "48                    ND        12101576.0             44.0\n",
      "49                    WY         9691087.0            508.0\n",
      "50  District of Columbia         9565832.0              NaN\n"
     ]
    }
   ],
   "source": [
    "merged_df = df_licensed_drivers.merge(df_state_accident_counts, on='State', how='left')\n",
    "print(merged_df)"
   ]
  },
  {
   "cell_type": "code",
   "execution_count": 113,
   "metadata": {},
   "outputs": [
    {
     "data": {
      "image/png": "[encoded data removed]",
      "text/plain": [
       "<Figure size 1800x1000 with 1 Axes>"
      ]
     },
     "metadata": {},
     "output_type": "display_data"
    }
   ],
   "source": [
    "\n",
    "merged_df['Accidents_per_driver'] = merged_df.iloc[:, 2] / merged_df.iloc[:, 1]\n",
    "\n",
    "df_sorted = merged_df.sort_values(by='Accidents_per_driver', ascending=False)\n",
    "\n",
    "ax = df_sorted.plot.bar(x='State', y='Accidents_per_driver', legend=False, figsize=(18,10))\n",
    "ax.set_ylabel('Accidents per licensed driver')\n",
    "plt.xticks(rotation=45)  # Rotate x-axis labels by 45 degrees\n",
    "plt.tight_layout()  # Adjust layout for better appearance\n",
    "plt.show()\n",
    "\n",
    "\n"
   ]
  },
  {
   "cell_type": "markdown",
   "metadata": {},
   "source": [
    "Data op individuele staten (Quint & Doena)"
   ]
  },
  {
   "cell_type": "code",
   "execution_count": 5,
   "metadata": {},
   "outputs": [
    {
     "data": {
      "image/png": "[encoded data removed]",
      "text/plain": [
       "<Figure size 864x432 with 1 Axes>"
      ]
     },
     "metadata": {
      "needs_background": "light"
     },
     "output_type": "display_data"
    }
   ],
   "source": [
    "state_accident_counts = df['State'].value_counts()\n",
    "\n",
    "plt.figure(figsize=(12, 6))\n",
    "state_accident_counts.plot(kind='bar', color='skyblue')\n",
    "plt.title('Ongelukken per Staat')\n",
    "plt.xlabel('Staat')\n",
    "plt.ylabel('Aantal ongelukken')\n",
    "plt.xticks(rotation=45) \n",
    "plt.tight_layout()\n",
    "plt.show()\n"
   ]
  },
  {
   "cell_type": "code",
   "execution_count": 6,
   "metadata": {},
   "outputs": [
    {
     "data": {
      "image/png": "[encoded data removed]",
      "text/plain": [
       "<Figure size 1296x648 with 1 Axes>"
      ]
     },
     "metadata": {
      "needs_background": "light"
     },
     "output_type": "display_data"
    }
   ],
   "source": [
    "df['Year'] = pd.to_datetime(df['Start_Time']).dt.year\n",
    "\n",
    "# Group by 'State', 'Year', and calculate the accident counts\n",
    "state_year_accident_counts = df.groupby(['State', 'Year']).size().reset_index(name='accident_count')\n",
    "\n",
    "plt.figure(figsize=(18, 9))\n",
    "\n",
    "# Create a bar chart using seaborn with 'State' on the x-axis and 'Year' as hue\n",
    "sns.barplot(data=state_year_accident_counts, x='State', y='accident_count', hue='Year')\n",
    "\n",
    "plt.title('Accidents per State by Year')\n",
    "plt.xlabel('State')\n",
    "plt.ylabel('Number of Accidents')\n",
    "plt.xticks(rotation=90)\n",
    "plt.legend(title='Year', loc='upper right')\n",
    "plt.tight_layout()\n",
    "plt.show()"
   ]
  },
  {
   "cell_type": "markdown",
   "metadata": {},
   "source": [
    "Isabel:"
   ]
  },
  {
   "cell_type": "code",
   "execution_count": null,
   "metadata": {},
   "outputs": [],
   "source": [
    "#leuk coderen"
   ]
  },
  {
   "cell_type": "markdown",
   "metadata": {},
   "source": [
    "Sophia met weer enzo:"
   ]
  },
  {
   "cell_type": "code",
   "execution_count": null,
   "metadata": {},
   "outputs": [],
   "source": [
    "#leuker coderen"
   ]
  }
 ],
 "metadata": {
  "kernelspec": {
   "display_name": "base",
   "language": "python",
   "name": "python3"
  },
  "language_info": {
   "codemirror_mode": {
    "name": "ipython",
    "version": 3
   },
   "file_extension": ".py",
   "mimetype": "text/x-python",
   "name": "python",
   "nbconvert_exporter": "python",
   "pygments_lexer": "ipython3",
   "version": "3.11.4"
  },
  "orig_nbformat": 4
 },
 "nbformat": 4,
 "nbformat_minor": 2
}
